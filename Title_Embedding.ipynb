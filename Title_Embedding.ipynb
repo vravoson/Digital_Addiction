{
 "cells": [
  {
   "cell_type": "code",
   "execution_count": 14,
   "metadata": {},
   "outputs": [
    {
     "name": "stderr",
     "output_type": "stream",
     "text": [
      "C:\\Users\\Vincelot\\AppData\\Local\\Packages\\PythonSoftwareFoundation.Python.3.10_qbz5n2kfra8p0\\LocalCache\\local-packages\\Python310\\site-packages\\tqdm\\auto.py:21: TqdmWarning: IProgress not found. Please update jupyter and ipywidgets. See https://ipywidgets.readthedocs.io/en/stable/user_install.html\n",
      "  from .autonotebook import tqdm as notebook_tqdm\n"
     ]
    }
   ],
   "source": [
    "import pandas as pd\n",
    "import numpy as np\n",
    "import matplotlib.pyplot as plt\n",
    "from sentence_transformers import SentenceTransformer"
   ]
  },
  {
   "attachments": {},
   "cell_type": "markdown",
   "metadata": {},
   "source": [
    "# 1. Sentence Embedding and UMAP"
   ]
  },
  {
   "cell_type": "code",
   "execution_count": 16,
   "metadata": {},
   "outputs": [],
   "source": [
    "reddit_data = pd.read_csv(\"Data\\submission_and_comments_V3.csv\",sep = \";\")\n",
    "submission_title = reddit_data['submission_title'].tolist()\n",
    "submission_title = [post for post in submission_title if ((post != \"[deleted by user]\") and (type(post) == str) and (str(type) != 'nan'))]\n"
   ]
  },
  {
   "cell_type": "code",
   "execution_count": 36,
   "metadata": {},
   "outputs": [
    {
     "name": "stderr",
     "output_type": "stream",
     "text": [
      "Batches: 100%|██████████| 642/642 [01:45<00:00,  6.08it/s]\n"
     ]
    }
   ],
   "source": [
    "model = SentenceTransformer('all-MiniLM-L6-v2')\n",
    "model.max_seq_length = 200\n",
    "#emb_title = model.encode(submission_title, show_progress_bar = True, normalize_embeddings = True)\n",
    "emb_title = model.encode(submission_title, show_progress_bar = True, normalize_embeddings = False)"
   ]
  },
  {
   "cell_type": "code",
   "execution_count": 39,
   "metadata": {},
   "outputs": [
    {
     "name": "stdout",
     "output_type": "stream",
     "text": [
      "UMAP(angular_rp_forest=True, metric='cosine', min_dist=0, n_neighbors=200, verbose=True)\n",
      "Thu Apr 27 23:16:47 2023 Construct fuzzy simplicial set\n",
      "Thu Apr 27 23:16:47 2023 Finding Nearest Neighbors\n",
      "Thu Apr 27 23:16:47 2023 Building RP forest with 12 trees\n",
      "Thu Apr 27 23:16:47 2023 NN descent for 14 iterations\n",
      "\t 1  /  14\n",
      "\t 2  /  14\n",
      "\t 3  /  14\n",
      "\t 4  /  14\n",
      "\t 5  /  14\n",
      "\tStopping threshold met -- exiting after 5 iterations\n",
      "Thu Apr 27 23:17:24 2023 Finished Nearest Neighbor Search\n",
      "Thu Apr 27 23:17:27 2023 Construct embedding\n"
     ]
    },
    {
     "name": "stderr",
     "output_type": "stream",
     "text": [
      "Epochs completed: 100%| ██████████ 200/200 [00:19]"
     ]
    },
    {
     "name": "stdout",
     "output_type": "stream",
     "text": [
      "Thu Apr 27 23:17:51 2023 Finished embedding\n"
     ]
    },
    {
     "name": "stderr",
     "output_type": "stream",
     "text": [
      "\n"
     ]
    },
    {
     "data": {
      "text/plain": [
       "array([[5.1803007 , 7.781455  ],\n",
       "       [3.1551023 , 1.236462  ],\n",
       "       [9.787257  , 0.02467975],\n",
       "       ...,\n",
       "       [9.805037  , 0.12287506],\n",
       "       [6.0817137 , 0.11420345],\n",
       "       [3.6847756 , 5.0476646 ]], dtype=float32)"
      ]
     },
     "execution_count": 39,
     "metadata": {},
     "output_type": "execute_result"
    }
   ],
   "source": [
    "import umap.umap_ as umap\n",
    "from sklearn.preprocessing import StandardScaler\n",
    "\n",
    "reducer = umap.UMAP(metric = \"cosine\", verbose = True, n_neighbors = 200, min_dist = 0)\n",
    "embedding = reducer.fit_transform(emb_title)\n",
    "embedding"
   ]
  },
  {
   "cell_type": "code",
   "execution_count": 40,
   "metadata": {},
   "outputs": [
    {
     "data": {
      "image/png": "[encoded data removed]",
      "text/plain": [
       "<Figure size 640x480 with 1 Axes>"
      ]
     },
     "metadata": {},
     "output_type": "display_data"
    }
   ],
   "source": [
    "plt.scatter(embedding[:, 0],embedding[:, 1])\n",
    "plt.gca().set_aspect('equal', 'datalim')"
   ]
  },
  {
   "attachments": {},
   "cell_type": "markdown",
   "metadata": {},
   "source": [
    "# 2. GloVE Embedding"
   ]
  },
  {
   "cell_type": "code",
   "execution_count": null,
   "metadata": {},
   "outputs": [],
   "source": [
    "import itertools\n",
    "submission_title = [post for post in submission_title if type(post)== str]\n",
    "all_titles = \" \".join(submission_title)\n",
    "all_titles"
   ]
  },
  {
   "cell_type": "code",
   "execution_count": 47,
   "metadata": {},
   "outputs": [
    {
     "ename": "ImportError",
     "evalue": "cannot import name 'Sequence' from 'collections' (C:\\Program Files\\WindowsApps\\PythonSoftwareFoundation.Python.3.10_3.10.3056.0_x64__qbz5n2kfra8p0\\lib\\collections\\__init__.py)",
     "output_type": "error",
     "traceback": [
      "\u001b[1;31m---------------------------------------------------------------------------\u001b[0m",
      "\u001b[1;31mImportError\u001b[0m                               Traceback (most recent call last)",
      "Cell \u001b[1;32mIn[47], line 2\u001b[0m\n\u001b[0;32m      1\u001b[0m \u001b[39mfrom\u001b[39;00m \u001b[39mcollections\u001b[39;00m\u001b[39m.\u001b[39;00m\u001b[39mabc\u001b[39;00m \u001b[39mimport\u001b[39;00m Sequence\n\u001b[1;32m----> 2\u001b[0m \u001b[39mfrom\u001b[39;00m \u001b[39mredditscore\u001b[39;00m\u001b[39m.\u001b[39;00m\u001b[39mtokenizer\u001b[39;00m \u001b[39mimport\u001b[39;00m CrazyTokenizer\n\u001b[0;32m      3\u001b[0m tokenizer \u001b[39m=\u001b[39m CrazyTokenizer()\n",
      "File \u001b[1;32m~\\AppData\\Local\\Packages\\PythonSoftwareFoundation.Python.3.10_qbz5n2kfra8p0\\LocalCache\\local-packages\\Python310\\site-packages\\redditscore\\tokenizer.py:34\u001b[0m\n\u001b[0;32m     32\u001b[0m \u001b[39mfrom\u001b[39;00m \u001b[39meventlet\u001b[39;00m\u001b[39m.\u001b[39;00m\u001b[39mgreen\u001b[39;00m\u001b[39m.\u001b[39;00m\u001b[39murllib\u001b[39;00m\u001b[39m.\u001b[39;00m\u001b[39mrequest\u001b[39;00m \u001b[39mimport\u001b[39;00m urlopen\n\u001b[0;32m     33\u001b[0m \u001b[39mfrom\u001b[39;00m \u001b[39meventlet\u001b[39;00m\u001b[39m.\u001b[39;00m\u001b[39mtimeout\u001b[39;00m \u001b[39mimport\u001b[39;00m Timeout\n\u001b[1;32m---> 34\u001b[0m \u001b[39mfrom\u001b[39;00m \u001b[39mredditscore\u001b[39;00m\u001b[39m.\u001b[39;00m\u001b[39mmodels\u001b[39;00m\u001b[39m.\u001b[39;00m\u001b[39mredditmodel\u001b[39;00m \u001b[39mimport\u001b[39;00m word_ngrams\n\u001b[0;32m     35\u001b[0m \u001b[39mfrom\u001b[39;00m \u001b[39mspacy\u001b[39;00m\u001b[39m.\u001b[39;00m\u001b[39mlang\u001b[39;00m\u001b[39m.\u001b[39;00m\u001b[39men\u001b[39;00m \u001b[39mimport\u001b[39;00m English\n\u001b[0;32m     36\u001b[0m \u001b[39mfrom\u001b[39;00m \u001b[39mspacy\u001b[39;00m\u001b[39m.\u001b[39;00m\u001b[39mmatcher\u001b[39;00m \u001b[39mimport\u001b[39;00m Matcher\n",
      "File \u001b[1;32m~\\AppData\\Local\\Packages\\PythonSoftwareFoundation.Python.3.10_qbz5n2kfra8p0\\LocalCache\\local-packages\\Python310\\site-packages\\redditscore\\models\\redditmodel.py:18\u001b[0m\n\u001b[0;32m     16\u001b[0m \u001b[39mimport\u001b[39;00m \u001b[39mwarnings\u001b[39;00m\n\u001b[0;32m     17\u001b[0m \u001b[39mfrom\u001b[39;00m \u001b[39mabc\u001b[39;00m \u001b[39mimport\u001b[39;00m ABCMeta\n\u001b[1;32m---> 18\u001b[0m \u001b[39mfrom\u001b[39;00m \u001b[39mcollections\u001b[39;00m \u001b[39mimport\u001b[39;00m Sequence\n\u001b[0;32m     19\u001b[0m \u001b[39mfrom\u001b[39;00m \u001b[39mitertools\u001b[39;00m \u001b[39mimport\u001b[39;00m product\n\u001b[0;32m     21\u001b[0m \u001b[39mimport\u001b[39;00m \u001b[39mmatplotlib\u001b[39;00m\u001b[39m.\u001b[39;00m\u001b[39mcm\u001b[39;00m \u001b[39mas\u001b[39;00m \u001b[39mcm\u001b[39;00m\n",
      "\u001b[1;31mImportError\u001b[0m: cannot import name 'Sequence' from 'collections' (C:\\Program Files\\WindowsApps\\PythonSoftwareFoundation.Python.3.10_3.10.3056.0_x64__qbz5n2kfra8p0\\lib\\collections\\__init__.py)"
     ]
    }
   ],
   "source": [
    "from collections.abc import Sequence\n",
    "from redditscore.tokenizer import CrazyTokenizer\n",
    "tokenizer = CrazyTokenizer()\n",
    "\n",
    "#Next Steps : Find a good tokenizer\n",
    "#Plot PCA, t-SNE, UMAP\n",
    "\n",
    "\n",
    "#HDBSCAN\n",
    "# Topic modelling with clustering\n",
    "\n",
    "# Topic clustering with matrix factorization\n",
    "\n",
    "# Clustering in high dimension\n",
    "  ## k-means with anomaly\n",
    "  ## k-means in high dimension\n",
    "  ## hdbscan in high dimension\n",
    "\n",
    "# Production\n",
    " ## [?] Fine-tune a language model on my dataset -> Produce answers, help people or answer to every post | RL?s\n",
    " ## Predict trends\n",
    " ## Anomaly detection\n",
    " ## Sentiment analysis"
   ]
  },
  {
   "cell_type": "code",
   "execution_count": 42,
   "metadata": {},
   "outputs": [],
   "source": [
    "from gensim.models import Word2Vec, FastText\n",
    "word2vec_model = Word2Vec(submission_title, min_count=1, vector_size = 100)\n",
    "\n",
    "emb_list = []\n",
    "for sentence in submission_title:\n",
    "    emb_word_sentence = []\n",
    "    for word in sentence:\n",
    "        word_emb = word2vec_model.wv[word]\n",
    "        emb_word_sentence.append(list(word_emb))\n",
    "    emb_list.append(np.mean(emb_word_sentence, axis = 0))\n"
   ]
  },
  {
   "cell_type": "code",
   "execution_count": 43,
   "metadata": {},
   "outputs": [
    {
     "data": {
      "text/plain": [
       "array([ 0.0245623 , -0.56628025, -0.25084868, -0.22790334, -0.1313172 ,\n",
       "        0.22447142, -0.09554422, -0.41194585,  0.63076746,  0.32235458,\n",
       "       -0.23879668,  0.30890086,  0.08503497,  0.04275969, -0.4800312 ,\n",
       "        0.03688867, -0.30112827, -0.02687717,  0.3941234 ,  0.82261884,\n",
       "       -0.09961825, -0.09007079, -0.64523923,  0.2648731 ,  0.23848684,\n",
       "       -0.07304727,  0.12140784, -0.21319416, -0.13922197, -0.15971449,\n",
       "       -0.01969812,  0.46774495,  0.13554434,  0.18084398, -0.02079982,\n",
       "        0.04825205, -0.26194566, -0.23379533,  0.21908729, -0.0358034 ,\n",
       "       -0.30973497, -0.15652436,  0.45420092, -0.24296318,  0.12402495,\n",
       "       -0.03253535,  0.37008613, -0.30359873, -0.03927477, -0.37225243,\n",
       "        0.09775558,  0.293529  , -0.20850295, -0.18037051,  0.35588437,\n",
       "        0.12035795, -0.27915996,  0.06995369, -0.03464903, -0.22346415,\n",
       "        0.28802103,  0.11009479, -0.3099743 ,  0.01504794, -0.16120182,\n",
       "        0.08537602, -0.20390645, -0.14000039, -0.13601722,  0.2090823 ,\n",
       "       -0.08023505, -0.19333683,  0.1609781 ,  0.04489488,  0.45439005,\n",
       "       -0.33689117, -0.46366256, -0.1229714 , -0.04684049,  0.43646532,\n",
       "        0.34287375, -0.11163663, -0.43783998,  0.19767444,  0.02724889,\n",
       "       -0.06869324, -0.0350631 ,  0.16394153, -0.06724573, -0.11386024,\n",
       "       -0.09866929, -0.11602582,  0.24007352,  0.09327745, -0.37395805,\n",
       "       -0.22738895, -0.24226011,  0.49051127, -0.37796748, -0.37957904],\n",
       "      dtype=float32)"
      ]
     },
     "execution_count": 43,
     "metadata": {},
     "output_type": "execute_result"
    }
   ],
   "source": []
  }
 ],
 "metadata": {
  "kernelspec": {
   "display_name": "Python 3",
   "language": "python",
   "name": "python3"
  },
  "language_info": {
   "codemirror_mode": {
    "name": "ipython",
    "version": 3
   },
   "file_extension": ".py",
   "mimetype": "text/x-python",
   "name": "python",
   "nbconvert_exporter": "python",
   "pygments_lexer": "ipython3",
   "version": "3.10.11"
  },
  "orig_nbformat": 4
 },
 "nbformat": 4,
 "nbformat_minor": 2
}
